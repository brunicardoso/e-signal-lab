{
 "cells": [
  {
   "cell_type": "markdown",
   "id": "61d9239a-b824-4239-9891-1f952e024624",
   "metadata": {},
   "source": [
    "# try segment from phase contrast\n",
    "#measure CDK activity in contact inhibtion and control. Put CDK activity in categories (low, low-mid, mid, mid-hi and hi)\n",
    "# try to have approximate number of cells\n",
    "\n",
    "# check this https://medium.com/intuitive-deep-learning/build-your-first-convolutional-neural-network-to-recognize-images-84b9c78fe0ce"
   ]
  },
  {
   "cell_type": "code",
   "execution_count": null,
   "id": "c00e8070-49b6-443b-bfd1-3590adba76e9",
   "metadata": {},
   "outputs": [],
   "source": []
  }
 ],
 "metadata": {
  "kernelspec": {
   "display_name": "Python 3 (ipykernel)",
   "language": "python",
   "name": "python3"
  },
  "language_info": {
   "codemirror_mode": {
    "name": "ipython",
    "version": 3
   },
   "file_extension": ".py",
   "mimetype": "text/x-python",
   "name": "python",
   "nbconvert_exporter": "python",
   "pygments_lexer": "ipython3",
   "version": "3.12.2"
  }
 },
 "nbformat": 4,
 "nbformat_minor": 5
}
